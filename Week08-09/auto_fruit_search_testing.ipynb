{
 "cells": [
  {
   "cell_type": "code",
   "execution_count": 1,
   "metadata": {},
   "outputs": [
    {
     "name": "stdout",
     "output_type": "stream",
     "text": [
      "pygame 2.5.0 (SDL 2.28.0, Python 3.11.5)\n",
      "Hello from the pygame community. https://www.pygame.org/contribute.html\n"
     ]
    }
   ],
   "source": [
    "import numpy as np\n",
    "import auto_fruit_search as afs"
   ]
  },
  {
   "cell_type": "code",
   "execution_count": 2,
   "metadata": {},
   "outputs": [
    {
     "name": "stdout",
     "output_type": "stream",
     "text": [
      "['garlic', 'capsicum', 'lime', 'lemon', 'orange', 'orange', 'pumpkin', 'potato', 'potato', 'tomato']\n",
      "['garlic', 'lemon', 'lime', 'tomato', 'pumpkin']\n",
      "Search order:\n",
      "1) garlic at [0.7, -0.6]\n",
      "2) lemon at [-0.4, -1.2]\n",
      "3) lime at [-1.1, -0.1]\n",
      "4) tomato at [0.8, 0.8]\n",
      "5) pumpkin at [-0.6, 1.2]\n"
     ]
    }
   ],
   "source": [
    "fruit_list, fruit_true_pos, aruco_true_pos = afs.read_true_map(\"M4_prac_map_full.txt\")\n",
    "print(fruit_list)\n",
    "\n",
    "#write to search_list.txt first to specify the order in which you want to search the list. \n",
    "search_list = afs.read_search_list()\n",
    "print(search_list)\n",
    "\n",
    "afs.print_target_fruits_pos(search_list, fruit_list, fruit_true_pos)"
   ]
  },
  {
   "cell_type": "code",
   "execution_count": 3,
   "metadata": {},
   "outputs": [
    {
     "ename": "NameError",
     "evalue": "name 'argparse' is not defined",
     "output_type": "error",
     "traceback": [
      "\u001b[1;31m---------------------------------------------------------------------------\u001b[0m",
      "\u001b[1;31mNameError\u001b[0m                                 Traceback (most recent call last)",
      "Cell \u001b[1;32mIn[3], line 3\u001b[0m\n\u001b[0;32m      1\u001b[0m \u001b[39m# main loop\u001b[39;00m\n\u001b[0;32m      2\u001b[0m \u001b[39mif\u001b[39;00m \u001b[39m__name__\u001b[39m \u001b[39m==\u001b[39m \u001b[39m\"\u001b[39m\u001b[39m__main__\u001b[39m\u001b[39m\"\u001b[39m:\n\u001b[1;32m----> 3\u001b[0m     parser \u001b[39m=\u001b[39m argparse\u001b[39m.\u001b[39mArgumentParser(\u001b[39m\"\u001b[39m\u001b[39mFruit searching\u001b[39m\u001b[39m\"\u001b[39m)\n\u001b[0;32m      4\u001b[0m     parser\u001b[39m.\u001b[39madd_argument(\u001b[39m\"\u001b[39m\u001b[39m--map\u001b[39m\u001b[39m\"\u001b[39m, \u001b[39mtype\u001b[39m\u001b[39m=\u001b[39m\u001b[39mstr\u001b[39m, default\u001b[39m=\u001b[39m\u001b[39m'\u001b[39m\u001b[39mM4_true_map_full.txt\u001b[39m\u001b[39m'\u001b[39m) \u001b[39m# change to 'M4_true_map_part.txt' for lv2&3\u001b[39;00m\n\u001b[0;32m      5\u001b[0m     parser\u001b[39m.\u001b[39madd_argument(\u001b[39m\"\u001b[39m\u001b[39m--ip\u001b[39m\u001b[39m\"\u001b[39m, metavar\u001b[39m=\u001b[39m\u001b[39m'\u001b[39m\u001b[39m'\u001b[39m, \u001b[39mtype\u001b[39m\u001b[39m=\u001b[39m\u001b[39mstr\u001b[39m, default\u001b[39m=\u001b[39m\u001b[39m'\u001b[39m\u001b[39m192.168.50.1\u001b[39m\u001b[39m'\u001b[39m)\n",
      "\u001b[1;31mNameError\u001b[0m: name 'argparse' is not defined"
     ]
    }
   ],
   "source": [
    "# main loop\n",
    "if __name__ == \"__main__\":\n",
    "    parser = argparse.ArgumentParser(\"Fruit searching\")\n",
    "    parser.add_argument(\"--map\", type=str, default='M4_true_map_full.txt') # change to 'M4_true_map_part.txt' for lv2&3\n",
    "    parser.add_argument(\"--ip\", metavar='', type=str, default='192.168.50.1')\n",
    "    parser.add_argument(\"--port\", metavar='', type=int, default=8080)\n",
    "    args, _ = parser.parse_known_args()\n",
    "\n",
    "    #copy over from operate, did not copy save/play data\n",
    "    #parser.add_argument(\"--yolo_model\", default='YOLO/model/yolov8_model.pt') #use for level3\n",
    "    parser.add_argument(\"--calib_dir\", type=str, default=\"calibration/param/\")\n",
    "\n",
    "    ppi = PenguinPi(args.ip,args.port)\n",
    "\n",
    "    # read in the true map\n",
    "    fruits_list, fruits_true_pos, aruco_true_pos = read_true_map(args.map)\n",
    "    search_list = read_search_list()\n",
    "    print_target_fruits_pos(search_list, fruits_list, fruits_true_pos)\n",
    "\n",
    "    #currently no visuals added (see pygame in operate.py)\n",
    "    offset=[0.1,0.1]\n",
    "    endpos= fruits_true_pos[0] -offset #will need to iterate through,\n",
    "    obstacles= np.concatenate((fruits_true_pos,aruco_true_pos),axis=None) #need to check output\n",
    "    n_iter=100 #make sure not too long\n",
    "    radius=0.2 #for clearance of obsticals\n",
    "    stepSize= 0.15 #need large stepsize\n",
    "    robot_pose = [0.0,0.0,0.0]\n",
    "\n",
    "    counter=0\n",
    "    # The following is only a skeleton code for semi-auto navigation\n",
    "    while True:\n",
    "        # enter the waypoints\n",
    "        # instead of manually enter waypoints, you can give coordinates by clicking on a map, see camera_calibration.py from M2\n",
    "        x,y = 0.0,0.0\n",
    "        x = input(\"X coordinate of the waypoint: \")\n",
    "        try:\n",
    "            x = float(x)\n",
    "        except ValueError:\n",
    "            print(\"Please enter a number.\")\n",
    "            continue\n",
    "        y = input(\"Y coordinate of the waypoint: \")\n",
    "        try:\n",
    "            y = float(y)\n",
    "        except ValueError:\n",
    "            print(\"Please enter a number.\")\n",
    "            continue\n",
    "\n",
    "        # estimate the robot's pose\n",
    "        robot_pose = get_robot_pose()\n",
    "\n",
    "        #add pathplanning\n",
    "        startpos = robot_pose\n",
    "        endpos = [x,y]-offset\n",
    "\n",
    "        rrt_star = rrt.RRT_star(startpos, endpos, obstacles, n_iter, radius, stepSize)\n",
    "        # G = RRT(startpos, endpos, obstacles, n_iter, radius, stepSize)\n",
    "\n",
    "        if rrt_star.success:\n",
    "            path = rrt.dijkstra(G)\n",
    "            print(path)\n",
    "            plt.plot(G, obstacles, radius, path)\n",
    "            for i in range(len(path)):\n",
    "                # robot drives to the waypoint\n",
    "                waypoint = path[i]\n",
    "                drive_to_point(waypoint,robot_pose)\n",
    "                print(\"Finished driving to waypoint: {}; New robot pose: {}\".format(waypoint,robot_pose))              \n",
    "        else:\n",
    "            plt.plot(G, obstacles, radius)\n",
    "\n",
    "\n",
    "        #after reaching endpoint should confirm target with YOLO\n",
    "        #operate.Operate.detect_target() #only used w YOLO\n",
    "        #self.detector_output= list of lists, box info [label,[x,y,width,height]] for all detected targets in image\n",
    "        #once detect, no need to append to map, even if low certainty, so that path-planning will avoid it\n",
    "        #add to fruit list, friut true pos (used in planning)\n",
    "\n",
    "        # exit\n",
    "        ppi.set_velocity([0, 0])\n",
    "        uInput = input(\"Add a new waypoint? [Y/N]\")\n",
    "        if uInput == 'N':\n",
    "            break\n"
   ]
  }
 ],
 "metadata": {
  "kernelspec": {
   "display_name": "PenguinPi",
   "language": "python",
   "name": "python3"
  },
  "language_info": {
   "codemirror_mode": {
    "name": "ipython",
    "version": 3
   },
   "file_extension": ".py",
   "mimetype": "text/x-python",
   "name": "python",
   "nbconvert_exporter": "python",
   "pygments_lexer": "ipython3",
   "version": "3.11.5"
  },
  "orig_nbformat": 4
 },
 "nbformat": 4,
 "nbformat_minor": 2
}
