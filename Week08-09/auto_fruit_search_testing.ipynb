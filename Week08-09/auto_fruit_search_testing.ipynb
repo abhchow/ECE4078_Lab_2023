{
 "cells": [
  {
   "cell_type": "code",
   "execution_count": 4,
   "metadata": {},
   "outputs": [],
   "source": [
    "import numpy as np\n",
    "import auto_fruit_search as afs"
   ]
  },
  {
   "cell_type": "code",
   "execution_count": 5,
   "metadata": {},
   "outputs": [
    {
     "name": "stdout",
     "output_type": "stream",
     "text": [
      "['garlic', 'capsicum', 'lime', 'lemon', 'orange', 'orange', 'pumpkin', 'potato', 'potato', 'tomato']\n",
      "['garlic', 'lemon', 'lime', 'tomato', 'pumpkin']\n",
      "Search order:\n",
      "1) garlic at [0.7, -0.6]\n",
      "2) lemon at [-0.4, -1.2]\n",
      "3) lime at [-1.1, -0.1]\n",
      "4) tomato at [0.8, 0.8]\n",
      "5) pumpkin at [-0.6, 1.2]\n"
     ]
    }
   ],
   "source": [
    "fruit_list, fruit_true_pos, aruco_true_pos = afs.read_true_map(\"M4_prac_map_full.txt\")\n",
    "print(fruit_list)\n",
    "\n",
    "#write to search_list.txt first to specify the order in which you want to search the list. \n",
    "search_list = afs.read_search_list()\n",
    "print(search_list)\n",
    "\n",
    "afs.print_target_fruits_pos(search_list, fruit_list, fruit_true_pos)"
   ]
  },
  {
   "cell_type": "code",
   "execution_count": null,
   "metadata": {},
   "outputs": [],
   "source": []
  }
 ],
 "metadata": {
  "kernelspec": {
   "display_name": "PenguinPi",
   "language": "python",
   "name": "python3"
  },
  "language_info": {
   "codemirror_mode": {
    "name": "ipython",
    "version": 3
   },
   "file_extension": ".py",
   "mimetype": "text/x-python",
   "name": "python",
   "nbconvert_exporter": "python",
   "pygments_lexer": "ipython3",
   "version": "3.11.5"
  },
  "orig_nbformat": 4
 },
 "nbformat": 4,
 "nbformat_minor": 2
}
